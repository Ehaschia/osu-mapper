{
 "cells": [
  {
   "cell_type": "code",
   "execution_count": 1,
   "metadata": {
    "collapsed": false
   },
   "outputs": [],
   "source": [
    "import json\n",
    "\n",
    "def load_batch(K=50, data_path='maps.json'):\n",
    "    data = json.load(open(data_path))\n",
    "    if K > len(data):\n",
    "        raise IndexError(\"K should be no greater than size of dataset. size=\" + str(len(data)))\n",
    "    objects = list(map(lambda x: x[0], data[:K]))\n",
    "    feats = list(map(lambda x: x[1], data[:K]))\n",
    "    return objects, feats"
   ]
  },
  {
   "cell_type": "code",
   "execution_count": 2,
   "metadata": {
    "collapsed": true
   },
   "outputs": [],
   "source": [
    "raw_Y, raw_X = load_batch(3)"
   ]
  },
  {
   "cell_type": "code",
   "execution_count": 6,
   "metadata": {
    "collapsed": false
   },
   "outputs": [
    {
     "name": "stdout",
     "output_type": "stream",
     "text": [
      "3 338\n"
     ]
    }
   ],
   "source": [
    "X = raw_X\n",
    "\n",
    "music_len = max(len(X[i]) for i in range(len(X)))\n",
    "X_len = 65\n",
    "Y_len = 4\n",
    "num_hidden = 200\n",
    "batch_size = 1\n",
    "no_of_batches = int(len(X) / batch_size)\n",
    "epoch = 10\n",
    "\n",
    "Y = [[[0, 0, 0, 0] for j in range(music_len)] for i in range(len(X))]\n",
    "PX = [[0.5] * music_len for i in range(len(X))]\n",
    "PY = [[0.5] * music_len for i in range(len(X))]\n",
    "for i in range(len(X)):\n",
    "    for j in range(music_len):\n",
    "        if j < len(raw_Y[i]):\n",
    "            Y[i][j][int(raw_Y[i][j][2])] = 1\n",
    "            PX[i][j] = raw_Y[i][j][0]\n",
    "            PY[i][j] = raw_Y[i][j][1]\n",
    "        else:\n",
    "            X[i].append([0]*X_len)\n",
    "print len(PX), len(PX[0])"
   ]
  },
  {
   "cell_type": "code",
   "execution_count": 15,
   "metadata": {
    "collapsed": false,
    "scrolled": true
   },
   "outputs": [],
   "source": [
    "import tensorflow as tf\n",
    "data = tf.placeholder(tf.float32, [None, music_len, X_len])\n",
    "target = tf.placeholder(tf.float32, [None, music_len, Y_len])\n",
    "target_PX = tf.placeholder(tf.float32, [None, music_len])\n",
    "target_PY = tf.placeholder(tf.float32, [None, music_len])\n",
    "\n",
    "dfm = {data:X, target:Y, target_PX:PX, target_PY:PY}\n",
    "\n",
    "cell = tf.nn.rnn_cell.LSTMCell(num_hidden, state_is_tuple=True)\n",
    "output, state = tf.nn.dynamic_rnn(cell, data, dtype=tf.float32)\n",
    "# output: [batch, length, feature]"
   ]
  },
  {
   "cell_type": "code",
   "execution_count": 16,
   "metadata": {
    "collapsed": false
   },
   "outputs": [],
   "source": [
    "weight = tf.Variable(tf.truncated_normal([num_hidden, Y_len]))\n",
    "bias = tf.Variable(tf.constant(0.0, shape=[Y_len]))\n",
    "\n",
    "weight_PX = tf.Variable(tf.truncated_normal([num_hidden, 1]))\n",
    "bias_PX = tf.Variable(tf.constant(0.5, shape=[1]))\n",
    "\n",
    "weight_PY = tf.Variable(tf.truncated_normal([num_hidden, 1]))\n",
    "bias_PY = tf.Variable(tf.constant(0.5, shape=[1]))"
   ]
  },
  {
   "cell_type": "code",
   "execution_count": 17,
   "metadata": {
    "collapsed": false
   },
   "outputs": [],
   "source": [
    "val = tf.reshape(output, [-1, num_hidden])\n",
    "tar = tf.reshape(target, [-1, Y_len])\n",
    "tar_PX = tf.reshape(target_PX, [-1])\n",
    "tar_PY = tf.reshape(target_PY, [-1])\n",
    "\n",
    "preds = tf.matmul(val, weight) + bias\n",
    "preds_PX = tf.sigmoid(tf.reshape(tf.matmul(val, weight_PX) + bias_PX, [-1]))\n",
    "preds_PY = tf.sigmoid(tf.reshape(tf.matmul(val, weight_PY) + bias_PY, [-1]))"
   ]
  },
  {
   "cell_type": "code",
   "execution_count": 18,
   "metadata": {
    "collapsed": false
   },
   "outputs": [],
   "source": [
    "cross_ens = tf.reduce_mean(tf.nn.softmax_cross_entropy_with_logits(preds, tar))\n",
    "l2_PX = tf.reduce_mean(tf.nn.l2_loss(preds_PX - tar_PX))\n",
    "l2_PY = tf.reduce_mean(tf.nn.l2_loss(preds_PY - tar_PY))\n",
    "\n",
    "losses = 100 * cross_ens + l2_PX + l2_PY"
   ]
  },
  {
   "cell_type": "code",
   "execution_count": 19,
   "metadata": {
    "collapsed": true
   },
   "outputs": [],
   "source": [
    "optimizer = tf.train.AdamOptimizer()\n",
    "minimize = optimizer.minimize(losses)"
   ]
  },
  {
   "cell_type": "code",
   "execution_count": 20,
   "metadata": {
    "collapsed": true
   },
   "outputs": [],
   "source": [
    "mistakes = tf.not_equal(tf.argmax(tar, 1), tf.argmax(preds, 1))\n",
    "error = tf.reduce_mean(tf.cast(mistakes, tf.float32))"
   ]
  },
  {
   "cell_type": "code",
   "execution_count": 35,
   "metadata": {
    "collapsed": false
   },
   "outputs": [],
   "source": [
    "# ps, ps_PX, ps_PY = sess.run((preds, preds_PX, preds_PY), {data:X[:1], target:Y[:1], target_PX: PX[:1], target_PY: PY[:1]})"
   ]
  },
  {
   "cell_type": "code",
   "execution_count": 21,
   "metadata": {
    "collapsed": false
   },
   "outputs": [],
   "source": [
    "init_op = tf.global_variables_initializer()\n",
    "sess = tf.Session()\n",
    "sess.run(init_op)"
   ]
  },
  {
   "cell_type": "code",
   "execution_count": 30,
   "metadata": {
    "collapsed": false
   },
   "outputs": [
    {
     "name": "stdout",
     "output_type": "stream",
     "text": [
      "Epoch  1 loss 29.229641\n",
      "         error 16.074951% cross 0.001096 lx 2.926918 ly 26.193123\n",
      "Epoch 11 loss 28.292675\n",
      "         error 16.074951% cross 0.001001 lx 2.453407 ly 25.739164\n",
      "Epoch 21 loss 27.201542\n",
      "         error 16.074951% cross 0.000922 lx 1.958313 ly 25.151060\n",
      "Epoch 31 loss 28.499416\n",
      "         error 16.074951% cross 0.000872 lx 2.208383 ly 26.203846\n",
      "Epoch 41 loss 26.919376\n",
      "         error 16.074951% cross 0.000809 lx 1.792536 ly 25.045916\n",
      "Epoch 51 loss 26.160730\n",
      "         error 16.074951% cross 0.000772 lx 1.720324 ly 24.363186\n",
      "Epoch 61 loss 25.829704\n",
      "         error 15.976331% cross 0.000709 lx 1.720148 ly 24.038685\n",
      "Epoch 71 loss 25.418091\n",
      "         error 16.074951% cross 0.000663 lx 1.522245 ly 23.829502\n",
      "Epoch 81 loss 25.146862\n",
      "         error 16.074951% cross 0.000624 lx 1.563083 ly 23.521416\n",
      "Epoch 91 loss 24.961935\n",
      "         error 16.074951% cross 0.000600 lx 1.471150 ly 23.430817\n"
     ]
    }
   ],
   "source": [
    "for i in range(100):\n",
    "    ptr = 0\n",
    "    for j in range(no_of_batches):\n",
    "        inp, out, out_PX, out_PY = X[ptr:ptr+batch_size], Y[ptr:ptr+batch_size], PX[ptr:ptr+batch_size], PY[ptr:ptr+batch_size]\n",
    "        ptr += batch_size\n",
    "        sess.run(minimize, {data: inp, target: out, target_PX: out_PX, target_PY: out_PY})\n",
    "    if i % 10 == 0:\n",
    "        incor = sess.run(error, dfm)\n",
    "        loss = sess.run(losses, dfm)\n",
    "        cross = sess.run(cross_ens, dfm)\n",
    "        lx = sess.run(l2_PX, dfm)\n",
    "        ly = sess.run(l2_PY, dfm)\n",
    "        print('Epoch {:2d} loss {:3.6f}'.format(i + 1, loss))\n",
    "        print('         error {:3.6f}% cross {:3.6f} lx {:3.6f} ly {:3.6f}'.format(incor*100, cross, lx, ly))"
   ]
  },
  {
   "cell_type": "code",
   "execution_count": 34,
   "metadata": {
    "collapsed": true
   },
   "outputs": [],
   "source": [
    "sess.close()"
   ]
  }
 ],
 "metadata": {
  "anaconda-cloud": {},
  "kernelspec": {
   "display_name": "Python [conda root]",
   "language": "python",
   "name": "conda-root-py"
  },
  "language_info": {
   "codemirror_mode": {
    "name": "ipython",
    "version": 2
   },
   "file_extension": ".py",
   "mimetype": "text/x-python",
   "name": "python",
   "nbconvert_exporter": "python",
   "pygments_lexer": "ipython2",
   "version": "2.7.12"
  }
 },
 "nbformat": 4,
 "nbformat_minor": 1
}
