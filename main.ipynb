{
 "cells": [
  {
   "cell_type": "code",
   "execution_count": 2,
   "metadata": {
    "collapsed": false
   },
   "outputs": [],
   "source": [
    "import json\n",
    "with open('data-example/tmp.json') as f:\n",
    "    raw_data = json.load(f)"
   ]
  },
  {
   "cell_type": "code",
   "execution_count": 3,
   "metadata": {
    "collapsed": false
   },
   "outputs": [],
   "source": [
    "X = raw_data[1]\n",
    "Y = [raw_data[0][i][4:8] for i in range(len(X))]"
   ]
  },
  {
   "cell_type": "code",
   "execution_count": 4,
   "metadata": {
    "collapsed": true
   },
   "outputs": [],
   "source": [
    "X = [X, X, X]  # [3 * 448 * 65]\n",
    "Y = [Y, Y, Y]  # [3 * 448 * 4]"
   ]
  },
  {
   "cell_type": "code",
   "execution_count": 5,
   "metadata": {
    "collapsed": false
   },
   "outputs": [
    {
     "name": "stdout",
     "output_type": "stream",
     "text": [
      "3 448 65\n",
      "3 448 4\n"
     ]
    }
   ],
   "source": [
    "music_len = 448\n",
    "print len(X), len(X[0]), len(X[0][0])\n",
    "print len(Y), len(Y[0]), len(Y[0][0])"
   ]
  },
  {
   "cell_type": "code",
   "execution_count": 6,
   "metadata": {
    "collapsed": false,
    "scrolled": true
   },
   "outputs": [],
   "source": [
    "import tensorflow as tf\n",
    "data = tf.placeholder(tf.float32, [None, music_len, 65])\n",
    "target = tf.placeholder(tf.float32, [None, music_len, 4])\n",
    "num_hidden = 200\n",
    "cell = tf.nn.rnn_cell.LSTMCell(num_hidden, state_is_tuple=True)\n",
    "val, state = tf.nn.bidirectional_dynamic_rnn(cell, cell, data, sequence_length=[music_len], dtype=tf.float32)"
   ]
  },
  {
   "cell_type": "code",
   "execution_count": 7,
   "metadata": {
    "collapsed": false
   },
   "outputs": [],
   "source": [
    "weight = tf.Variable(tf.truncated_normal([num_hidden * 2, 4]))\n",
    "bias = tf.Variable(tf.constant(0.0, shape=[4]))"
   ]
  },
  {
   "cell_type": "code",
   "execution_count": 8,
   "metadata": {
    "collapsed": false
   },
   "outputs": [],
   "source": [
    "val = tf.concat(2, val)\n",
    "val = tf.transpose(val, [1, 0, 2])\n",
    "target_tr = tf.transpose(target, [1, 0, 2])\n",
    "preds = [tf.nn.softmax(tf.matmul(val[i], weight) + bias) for i in range(music_len)]"
   ]
  },
  {
   "cell_type": "code",
   "execution_count": 9,
   "metadata": {
    "collapsed": true
   },
   "outputs": [],
   "source": [
    "cross_ens = [\n",
    "    tf.nn.softmax_cross_entropy_with_logits(preds[i], target_tr[i])\n",
    "    for i in range(music_len)\n",
    "]"
   ]
  },
  {
   "cell_type": "code",
   "execution_count": 10,
   "metadata": {
    "collapsed": true
   },
   "outputs": [],
   "source": [
    "cross_sum = tf.reduce_sum(cross_ens)"
   ]
  },
  {
   "cell_type": "code",
   "execution_count": 11,
   "metadata": {
    "collapsed": true
   },
   "outputs": [],
   "source": [
    "optimizer = tf.train.AdamOptimizer()\n",
    "minimize = optimizer.minimize(cross_sum)"
   ]
  },
  {
   "cell_type": "code",
   "execution_count": 12,
   "metadata": {
    "collapsed": true
   },
   "outputs": [],
   "source": [
    "mistakes = [tf.not_equal(tf.argmax(target_tr[i], 1), tf.argmax(preds[i], 1)) \n",
    "            for i in range(music_len)]\n",
    "errors = [tf.reduce_mean(tf.cast(mistakes[i], tf.float32)) for i in range(music_len)]\n",
    "error = tf.reduce_mean(errors)"
   ]
  },
  {
   "cell_type": "code",
   "execution_count": 13,
   "metadata": {
    "collapsed": false
   },
   "outputs": [],
   "source": [
    "init_op = tf.global_variables_initializer()\n",
    "sess = tf.Session()\n",
    "sess.run(init_op)"
   ]
  },
  {
   "cell_type": "code",
   "execution_count": null,
   "metadata": {
    "collapsed": false
   },
   "outputs": [],
   "source": [
    "batch_size = 1\n",
    "no_of_batches = int(len(X) / batch_size)\n",
    "epoch = 100\n",
    "for i in range(epoch):\n",
    "    ptr = 0\n",
    "    for j in range(no_of_batches):\n",
    "        inp, out = X[ptr:ptr+batch_size], Y[ptr:ptr+batch_size]\n",
    "        ptr += batch_size\n",
    "        sess.run(minimize, {data: inp, target: out})\n",
    "    incorrect = sess.run(error, {data: X, target: Y})\n",
    "    print('Epoch {:2d} error {:3.1f}%'.format(i + 1, 100 * incorrect))\n",
    "sess.close()"
   ]
  }
 ],
 "metadata": {
  "anaconda-cloud": {},
  "kernelspec": {
   "display_name": "Python [conda root]",
   "language": "python",
   "name": "conda-root-py"
  },
  "language_info": {
   "codemirror_mode": {
    "name": "ipython",
    "version": 2
   },
   "file_extension": ".py",
   "mimetype": "text/x-python",
   "name": "python",
   "nbconvert_exporter": "python",
   "pygments_lexer": "ipython2",
   "version": "2.7.12"
  }
 },
 "nbformat": 4,
 "nbformat_minor": 1
}
