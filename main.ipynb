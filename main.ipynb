{
 "cells": [
  {
   "cell_type": "code",
   "execution_count": 1,
   "metadata": {
    "collapsed": false
   },
   "outputs": [],
   "source": [
    "import json\n",
    "\n",
    "def load_batch(K=50, data_path='maps.json'):\n",
    "    data = json.load(open(data_path))\n",
    "    if K > len(data):\n",
    "        raise IndexError(\"K should be no greater than size of dataset. size=\" + str(len(data)))\n",
    "    filenames = list(map(lambda x: x[0], data[:K]))\n",
    "    objects = list(map(lambda x: x[1], data[:K]))\n",
    "    feats = list(map(lambda x: x[2], data[:K]))\n",
    "    return filenames, objects, feats"
   ]
  },
  {
   "cell_type": "code",
   "execution_count": 2,
   "metadata": {
    "collapsed": true
   },
   "outputs": [],
   "source": [
    "raw_names, raw_Y, raw_X = load_batch(2100)"
   ]
  },
  {
   "cell_type": "code",
   "execution_count": 3,
   "metadata": {
    "collapsed": false
   },
   "outputs": [],
   "source": [
    "X = raw_X\n",
    "\n",
    "music_len = max(len(X[i]) for i in range(len(X)))\n",
    "X_len = 65\n",
    "Y_len = 4\n",
    "num_hidden = 200\n",
    "\n",
    "Y = [[[0, 0, 0, 0] for j in range(music_len)] for i in range(len(X))]\n",
    "PX = [[0.5] * music_len for i in range(len(X))]\n",
    "PY = [[0.5] * music_len for i in range(len(X))]\n",
    "for i in range(len(X)):\n",
    "    for j in range(music_len):\n",
    "        if j < len(raw_Y[i]):\n",
    "            Y[i][j][int(raw_Y[i][j][2])] = 1\n",
    "            PX[i][j] = min(1, max(0, raw_Y[i][j][0]))\n",
    "            PY[i][j] = min(1, max(0, raw_Y[i][j][1]))\n",
    "        else:\n",
    "            X[i].append([0]*X_len)"
   ]
  },
  {
   "cell_type": "code",
   "execution_count": 4,
   "metadata": {
    "collapsed": false
   },
   "outputs": [
    {
     "name": "stdout",
     "output_type": "stream",
     "text": [
      "[1370772, 412779, 1396248, 72735]\n",
      "0.421447400704 0.126909972348 0.429280062868 0.0223625640808\n"
     ]
    }
   ],
   "source": [
    "cnt = [0, 0, 0, 0]\n",
    "for i in range(len(Y)):\n",
    "    for j in range(len(Y[0])):\n",
    "        for k in range(len(Y[0][0])):\n",
    "            if Y[i][j][k] == 1:\n",
    "                cnt[k] += 1\n",
    "print cnt\n",
    "print cnt[0] / 1.0 / sum(cnt), cnt[1] / 1.0 / sum(cnt), cnt[2] / 1.0 / sum(cnt), cnt[3] / 1.0 / sum(cnt)"
   ]
  },
  {
   "cell_type": "code",
   "execution_count": 4,
   "metadata": {
    "collapsed": true
   },
   "outputs": [],
   "source": [
    "num_train = 2000\n",
    "t_names, t_X, t_Y, t_PX, t_PY = raw_names[num_train:], X[num_train:], Y[num_train:], PX[num_train:], PY[num_train:]\n",
    "names, X, Y, PX, PY = raw_names[:num_train], X[:num_train], Y[:num_train], PX[:num_train], PY[:num_train]"
   ]
  },
  {
   "cell_type": "code",
   "execution_count": 5,
   "metadata": {
    "collapsed": false,
    "scrolled": true
   },
   "outputs": [],
   "source": [
    "import tensorflow as tf\n",
    "data = tf.placeholder(tf.float32, [None, music_len, X_len])\n",
    "target = tf.placeholder(tf.float32, [None, music_len, Y_len])\n",
    "target_PX = tf.placeholder(tf.float32, [None, music_len])\n",
    "target_PY = tf.placeholder(tf.float32, [None, music_len])\n",
    "\n",
    "cell = tf.nn.rnn_cell.LSTMCell(num_hidden, state_is_tuple=True)\n",
    "output, state = tf.nn.dynamic_rnn(cell, data, dtype=tf.float32)\n",
    "# output: [batch, length, feature]"
   ]
  },
  {
   "cell_type": "code",
   "execution_count": 6,
   "metadata": {
    "collapsed": false
   },
   "outputs": [],
   "source": [
    "weight = tf.Variable(tf.truncated_normal([num_hidden, Y_len]))\n",
    "bias = tf.Variable(tf.constant(0.0, shape=[Y_len]))\n",
    "\n",
    "weight_PX = tf.Variable(tf.truncated_normal([num_hidden, 1]))\n",
    "bias_PX = tf.Variable(tf.constant(0.5, shape=[1]))\n",
    "\n",
    "weight_PY = tf.Variable(tf.truncated_normal([num_hidden, 1]))\n",
    "bias_PY = tf.Variable(tf.constant(0.5, shape=[1]))"
   ]
  },
  {
   "cell_type": "code",
   "execution_count": 7,
   "metadata": {
    "collapsed": false
   },
   "outputs": [],
   "source": [
    "val = tf.reshape(output, [-1, num_hidden])\n",
    "tar = tf.reshape(target, [-1, Y_len])\n",
    "tar_PX = tf.reshape(target_PX, [-1])\n",
    "tar_PY = tf.reshape(target_PY, [-1])\n",
    "\n",
    "preds = tf.matmul(val, weight) + bias\n",
    "preds_PX = tf.sigmoid(tf.reshape(tf.matmul(val, weight_PX) + bias_PX, [-1]))\n",
    "preds_PY = tf.sigmoid(tf.reshape(tf.matmul(val, weight_PY) + bias_PY, [-1]))"
   ]
  },
  {
   "cell_type": "code",
   "execution_count": 8,
   "metadata": {
    "collapsed": false
   },
   "outputs": [],
   "source": [
    "cross_ens = tf.reduce_mean(tf.nn.softmax_cross_entropy_with_logits(preds, tar))\n",
    "l2_PX = tf.reduce_mean((preds_PX - tar_PX) ** 2)\n",
    "l2_PY = tf.reduce_mean((preds_PY - tar_PY) ** 2)\n",
    "\n",
    "losses = cross_ens + l2_PX + l2_PY"
   ]
  },
  {
   "cell_type": "code",
   "execution_count": 9,
   "metadata": {
    "collapsed": true
   },
   "outputs": [],
   "source": [
    "optimizer = tf.train.AdamOptimizer()\n",
    "minimize = optimizer.minimize(losses)"
   ]
  },
  {
   "cell_type": "code",
   "execution_count": 10,
   "metadata": {
    "collapsed": true
   },
   "outputs": [],
   "source": [
    "mistakes = tf.not_equal(tf.argmax(tar, 1), tf.argmax(preds, 1))\n",
    "error = tf.reduce_mean(tf.cast(mistakes, tf.float32))"
   ]
  },
  {
   "cell_type": "code",
   "execution_count": 16,
   "metadata": {
    "collapsed": false
   },
   "outputs": [],
   "source": [
    "res, res_PX, res_PY = sess.run((preds, preds_PX, preds_PY), {data:t_X})"
   ]
  },
  {
   "cell_type": "code",
   "execution_count": 19,
   "metadata": {
    "collapsed": false
   },
   "outputs": [
    {
     "name": "stdout",
     "output_type": "stream",
     "text": [
      "<type 'numpy.ndarray'>\n"
     ]
    }
   ],
   "source": [
    "print type(res)"
   ]
  },
  {
   "cell_type": "code",
   "execution_count": 20,
   "metadata": {
    "collapsed": false
   },
   "outputs": [],
   "source": [
    "with open('filenames.json', 'w') as f:\n",
    "    json.dump(t_names, f)\n",
    "res.dump('labels')\n",
    "res_PX.dump('PX')\n",
    "res_PY.dump('PY')"
   ]
  },
  {
   "cell_type": "code",
   "execution_count": 12,
   "metadata": {
    "collapsed": false
   },
   "outputs": [],
   "source": [
    "init_op = tf.global_variables_initializer()\n",
    "sess = tf.Session()\n",
    "sess.run(init_op)"
   ]
  },
  {
   "cell_type": "code",
   "execution_count": 13,
   "metadata": {
    "collapsed": false
   },
   "outputs": [
    {
     "name": "stdout",
     "output_type": "stream",
     "text": [
      "2000 20\n"
     ]
    }
   ],
   "source": [
    "batch_size = 100\n",
    "no_of_batches = int(len(X) / batch_size)\n",
    "dfm = {data:t_X, target:t_Y, target_PX:t_PX, target_PY:t_PY}\n",
    "print len(X), no_of_batches"
   ]
  },
  {
   "cell_type": "code",
   "execution_count": 15,
   "metadata": {
    "collapsed": false,
    "scrolled": false
   },
   "outputs": [
    {
     "name": "stdout",
     "output_type": "stream",
     "text": [
      "Epoch  1 loss 1.488993\n",
      "         error 66.329676% cross 1.269516 lx 0.120590 ly 0.098887\n",
      "Epoch  2 loss 1.320009\n",
      "         error 65.599805% cross 1.162623 lx 0.077307 ly 0.080079\n",
      "Epoch  3 loss 1.232096\n",
      "         error 65.304464% cross 1.098337 lx 0.065489 ly 0.068270\n",
      "Epoch  4 loss 1.174245\n",
      "         error 65.021592% cross 1.056257 lx 0.058099 ly 0.059890\n",
      "Epoch  5 loss 1.136834\n",
      "         error 64.854449% cross 1.028114 lx 0.053604 ly 0.055116\n",
      "Epoch  6 loss 1.109133\n",
      "         error 64.758587% cross 1.008532 lx 0.049657 ly 0.050944\n",
      "Epoch  7 loss 1.088997\n",
      "         error 64.593774% cross 0.994406 lx 0.046658 ly 0.047933\n",
      "Epoch  8 loss 1.074741\n",
      "         error 64.475316% cross 0.984651 lx 0.044537 ly 0.045553\n",
      "Epoch  9 loss 1.062824\n",
      "         error 64.365858% cross 0.976058 lx 0.042903 ly 0.043863\n",
      "Epoch 10 loss 1.054734\n",
      "         error 64.179927% cross 0.970225 lx 0.041745 ly 0.042764\n",
      "Epoch 11 loss 1.047977\n",
      "         error 64.120495% cross 0.965326 lx 0.040907 ly 0.041744\n",
      "Epoch 12 loss 1.044149\n",
      "         error 64.023542% cross 0.962810 lx 0.040269 ly 0.041070\n",
      "Epoch 13 loss 1.039636\n",
      "         error 63.945776% cross 0.959280 lx 0.039811 ly 0.040545\n",
      "Epoch 14 loss 1.037300\n",
      "         error 63.888258% cross 0.957630 lx 0.039535 ly 0.040135\n",
      "Epoch 15 loss 1.034559\n",
      "         error 63.790041% cross 0.955538 lx 0.039203 ly 0.039818\n",
      "Epoch 16 loss 1.032817\n",
      "         error 63.665932% cross 0.954365 lx 0.038996 ly 0.039457\n",
      "Epoch 17 loss 1.030475\n",
      "         error 63.539684% cross 0.952550 lx 0.038778 ly 0.039148\n",
      "Epoch 18 loss 1.029970\n",
      "         error 63.422292% cross 0.952649 lx 0.038459 ly 0.038862\n",
      "Epoch 19 loss 1.027989\n",
      "         error 63.251239% cross 0.951200 lx 0.038111 ly 0.038678\n",
      "Epoch 20 loss 1.026359\n",
      "         error 63.017076% cross 0.950193 lx 0.037756 ly 0.038411\n",
      "Epoch 21 loss 1.023910\n",
      "         error 62.848198% cross 0.948330 lx 0.037363 ly 0.038217\n",
      "Epoch 22 loss 1.023865\n",
      "         error 62.833518% cross 0.948675 lx 0.037088 ly 0.038102\n",
      "Epoch 23 loss 1.021741\n",
      "         error 62.719375% cross 0.946855 lx 0.036941 ly 0.037945\n",
      "Epoch 24 loss 1.021323\n",
      "         error 62.727332% cross 0.946674 lx 0.036783 ly 0.037866\n",
      "Epoch 25 loss 1.020419\n",
      "         error 62.649149% cross 0.945971 lx 0.036650 ly 0.037797\n",
      "Epoch 26 loss 1.020140\n",
      "         error 62.659258% cross 0.945847 lx 0.036574 ly 0.037720\n",
      "Epoch 27 loss 1.018903\n",
      "         error 62.526542% cross 0.944775 lx 0.036424 ly 0.037704\n",
      "Epoch 28 loss 1.018245\n",
      "         error 62.530011% cross 0.944317 lx 0.036315 ly 0.037613\n",
      "Epoch 29 loss 1.017645\n",
      "         error 62.445122% cross 0.943828 lx 0.036214 ly 0.037603\n",
      "Epoch 30 loss 1.017179\n",
      "         error 62.442303% cross 0.943485 lx 0.036189 ly 0.037505\n",
      "Epoch 31 loss 1.016655\n",
      "         error 62.372094% cross 0.943029 lx 0.036119 ly 0.037508\n",
      "Epoch 32 loss 1.016132\n",
      "         error 62.406558% cross 0.942635 lx 0.036048 ly 0.037448\n",
      "Epoch 33 loss 1.015339\n",
      "         error 62.318432% cross 0.942040 lx 0.035928 ly 0.037371\n",
      "Epoch 34 loss 1.015378\n",
      "         error 62.361956% cross 0.942180 lx 0.035880 ly 0.037317\n",
      "Epoch 35 loss 1.014697\n",
      "         error 62.375098% cross 0.941587 lx 0.035836 ly 0.037273\n",
      "Epoch 36 loss 1.014182\n",
      "         error 62.360883% cross 0.941222 lx 0.035748 ly 0.037213\n",
      "Epoch 37 loss 1.014079\n",
      "         error 62.378561% cross 0.941132 lx 0.035724 ly 0.037222\n",
      "Epoch 38 loss 1.013800\n",
      "         error 62.345386% cross 0.940979 lx 0.035672 ly 0.037149\n",
      "Epoch 39 loss 1.013413\n",
      "         error 62.342596% cross 0.940550 lx 0.035681 ly 0.037182\n",
      "Epoch 40 loss 1.013964\n",
      "         error 62.309629% cross 0.941152 lx 0.035630 ly 0.037182\n",
      "Epoch 41 loss 1.013668\n",
      "         error 62.317151% cross 0.940877 lx 0.035629 ly 0.037161\n",
      "Epoch 42 loss 1.013757\n",
      "         error 62.283564% cross 0.941037 lx 0.035587 ly 0.037133\n",
      "Epoch 43 loss 1.013713\n",
      "         error 62.260276% cross 0.941019 lx 0.035582 ly 0.037112\n",
      "Epoch 44 loss 1.013264\n",
      "         error 62.246078% cross 0.940602 lx 0.035536 ly 0.037126\n",
      "Epoch 45 loss 1.013269\n",
      "         error 62.266541% cross 0.940602 lx 0.035550 ly 0.037117\n",
      "Epoch 46 loss 1.013706\n",
      "         error 62.231427% cross 0.941072 lx 0.035513 ly 0.037121\n",
      "Epoch 47 loss 1.013242\n",
      "         error 62.273842% cross 0.940529 lx 0.035572 ly 0.037141\n",
      "Epoch 48 loss 1.014429\n",
      "         error 62.249297% cross 0.941737 lx 0.035576 ly 0.037115\n",
      "Epoch 49 loss 1.013813\n",
      "         error 62.240899% cross 0.941166 lx 0.035553 ly 0.037094\n",
      "Epoch 50 loss 1.014322\n",
      "         error 62.248009% cross 0.941758 lx 0.035513 ly 0.037051\n"
     ]
    }
   ],
   "source": [
    "for i in range(50):\n",
    "    ptr = 0\n",
    "    for j in range(no_of_batches):\n",
    "        inp, out, out_PX, out_PY = X[ptr:ptr+batch_size], Y[ptr:ptr+batch_size], PX[ptr:ptr+batch_size], PY[ptr:ptr+batch_size]\n",
    "        ptr += batch_size\n",
    "        ass = {data: inp, target: out, target_PX: out_PX, target_PY: out_PY}\n",
    "        sess.run(minimize, ass)\n",
    "#         incor = sess.run(error, ass)\n",
    "#         loss = sess.run(losses, ass)\n",
    "#         cross = sess.run(cross_ens, ass)\n",
    "#         lx = sess.run(l2_PX, ass)\n",
    "#         ly = sess.run(l2_PY, ass)\n",
    "#         print('Epoch {:2d} loss {:3.6f}'.format(i + 1, loss))\n",
    "#         print('         error {:3.6f}% cross {:3.6f} lx {:3.6f} ly {:3.6f}'.format(incor*100, cross, lx, ly))\n",
    "#         print i, j\n",
    "    incor, loss, cross, lx, ly = sess.run((error, losses, cross_ens, l2_PX, l2_PY), dfm)\n",
    "    print('Epoch {:2d} loss {:3.6f}'.format(i + 1, loss))\n",
    "    print('         error {:3.6f}% cross {:3.6f} lx {:3.6f} ly {:3.6f}'.format(incor*100, cross, lx, ly))"
   ]
  },
  {
   "cell_type": "code",
   "execution_count": 21,
   "metadata": {
    "collapsed": true
   },
   "outputs": [],
   "source": [
    "sess.close()"
   ]
  }
 ],
 "metadata": {
  "anaconda-cloud": {},
  "kernelspec": {
   "display_name": "Python [conda root]",
   "language": "python",
   "name": "conda-root-py"
  },
  "language_info": {
   "codemirror_mode": {
    "name": "ipython",
    "version": 2
   },
   "file_extension": ".py",
   "mimetype": "text/x-python",
   "name": "python",
   "nbconvert_exporter": "python",
   "pygments_lexer": "ipython2",
   "version": "2.7.12"
  }
 },
 "nbformat": 4,
 "nbformat_minor": 1
}
