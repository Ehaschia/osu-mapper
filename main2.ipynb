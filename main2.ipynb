{
 "cells": [
  {
   "cell_type": "code",
   "execution_count": 1,
   "metadata": {
    "collapsed": false
   },
   "outputs": [],
   "source": [
    "import json\n",
    "\n",
    "def load_batch(K=50, data_path='maps.json'):\n",
    "    data = json.load(open(data_path))\n",
    "    if K > len(data):\n",
    "        raise IndexError(\"K should be no greater than size of dataset. size=\" + str(len(data)))\n",
    "    filenames = list(map(lambda x: x[0], data[:K]))\n",
    "    objects = list(map(lambda x: x[1], data[:K]))\n",
    "    feats = list(map(lambda x: x[2], data[:K]))\n",
    "    return filenames, objects, feats"
   ]
  },
  {
   "cell_type": "code",
   "execution_count": 2,
   "metadata": {
    "collapsed": false
   },
   "outputs": [],
   "source": [
    "raw_names, raw_Y, raw_X = load_batch(2100)"
   ]
  },
  {
   "cell_type": "code",
   "execution_count": 5,
   "metadata": {
    "collapsed": false
   },
   "outputs": [],
   "source": [
    "with open('tmp.json', 'w') as f:\n",
    "    json.dump((raw_names, raw_Y, raw_X), f)"
   ]
  },
  {
   "cell_type": "code",
   "execution_count": 1,
   "metadata": {
    "collapsed": false
   },
   "outputs": [],
   "source": [
    "import json\n",
    "with open('tmp.json') as f:\n",
    "    raw_names, raw_Y, raw_X = json.load(f)"
   ]
  },
  {
   "cell_type": "code",
   "execution_count": 3,
   "metadata": {
    "collapsed": false
   },
   "outputs": [],
   "source": [
    "X = raw_X\n",
    "\n",
    "music_len = max(len(X[i]) for i in range(len(X)))\n",
    "X_len = 65\n",
    "Y_len = 4\n",
    "num_hidden = 200\n",
    "\n",
    "Y = [[[0, 0, 0, 0] for j in range(music_len)] for i in range(len(X))]\n",
    "PX = [[0.5] * music_len for i in range(len(X))]\n",
    "PY = [[0.5] * music_len for i in range(len(X))]\n",
    "for i in range(len(X)):\n",
    "    for j in range(music_len):\n",
    "        if j < len(raw_Y[i]):\n",
    "            Y[i][j][int(raw_Y[i][j][2])] = 1\n",
    "            PX[i][j] = min(1, max(0, raw_Y[i][j][0]))\n",
    "            PY[i][j] = min(1, max(0, raw_Y[i][j][1]))\n",
    "        else:\n",
    "            X[i].append([0]*X_len)"
   ]
  },
  {
   "cell_type": "code",
   "execution_count": 4,
   "metadata": {
    "collapsed": false
   },
   "outputs": [
    {
     "name": "stdout",
     "output_type": "stream",
     "text": [
      "[1372952, 415906, 1397773, 73114]\n",
      "0.421183865609 0.12758850769 0.428798264895 0.0224293618059\n"
     ]
    }
   ],
   "source": [
    "cnt = [0, 0, 0, 0]\n",
    "for i in range(len(Y)):\n",
    "    for j in range(len(Y[0])):\n",
    "        for k in range(len(Y[0][0])):\n",
    "            if Y[i][j][k] == 1:\n",
    "                cnt[k] += 1\n",
    "print cnt\n",
    "print cnt[0] / 1.0 / sum(cnt), cnt[1] / 1.0 / sum(cnt), cnt[2] / 1.0 / sum(cnt), cnt[3] / 1.0 / sum(cnt)"
   ]
  },
  {
   "cell_type": "code",
   "execution_count": 5,
   "metadata": {
    "collapsed": true
   },
   "outputs": [],
   "source": [
    "num_train = 2000\n",
    "t_names, t_X, t_Y, t_PX, t_PY = raw_names[num_train:], X[num_train:], Y[num_train:], PX[num_train:], PY[num_train:]\n",
    "names, X, Y, PX, PY = raw_names[:num_train], X[:num_train], Y[:num_train], PX[:num_train], PY[:num_train]"
   ]
  },
  {
   "cell_type": "code",
   "execution_count": 6,
   "metadata": {
    "collapsed": false,
    "scrolled": true
   },
   "outputs": [],
   "source": [
    "import tensorflow as tf\n",
    "data = tf.placeholder(tf.float32, [None, music_len, X_len])\n",
    "target = tf.placeholder(tf.float32, [None, music_len, Y_len])\n",
    "target_PX = tf.placeholder(tf.float32, [None, music_len])\n",
    "target_PY = tf.placeholder(tf.float32, [None, music_len])\n",
    "\n",
    "cell = tf.nn.rnn_cell.LSTMCell(num_hidden, state_is_tuple=True)\n",
    "output, state = tf.nn.bidirectional_dynamic_rnn(cell, cell, data, sequence_length=[music_len]*100, dtype=tf.float32)\n",
    "# output: [batch, length, feature]"
   ]
  },
  {
   "cell_type": "code",
   "execution_count": 7,
   "metadata": {
    "collapsed": false
   },
   "outputs": [],
   "source": [
    "weight = tf.Variable(tf.truncated_normal([2 * num_hidden, Y_len]))\n",
    "bias = tf.Variable(tf.constant(0.0, shape=[Y_len]))\n",
    "\n",
    "weight_PX = tf.Variable(tf.truncated_normal([2 * num_hidden, 1]))\n",
    "bias_PX = tf.Variable(tf.constant(0.5, shape=[1]))\n",
    "\n",
    "weight_PY = tf.Variable(tf.truncated_normal([2 * num_hidden, 1]))\n",
    "bias_PY = tf.Variable(tf.constant(0.5, shape=[1]))"
   ]
  },
  {
   "cell_type": "code",
   "execution_count": 8,
   "metadata": {
    "collapsed": false
   },
   "outputs": [],
   "source": [
    "output2 = tf.concat(2, output)\n",
    "val = tf.reshape(output2, [-1, num_hidden * 2])\n",
    "tar = tf.reshape(target, [-1, Y_len])\n",
    "tar_PX = tf.reshape(target_PX, [-1])\n",
    "tar_PY = tf.reshape(target_PY, [-1])\n",
    "\n",
    "preds = tf.matmul(val, weight) + bias\n",
    "preds_PX = tf.sigmoid(tf.reshape(tf.matmul(val, weight_PX) + bias_PX, [-1]))\n",
    "preds_PY = tf.sigmoid(tf.reshape(tf.matmul(val, weight_PY) + bias_PY, [-1]))"
   ]
  },
  {
   "cell_type": "code",
   "execution_count": 9,
   "metadata": {
    "collapsed": false
   },
   "outputs": [],
   "source": [
    "cross_ens = tf.reduce_mean(tf.nn.softmax_cross_entropy_with_logits(preds, tar))\n",
    "l2_PX = tf.reduce_mean((preds_PX - tar_PX) ** 2)\n",
    "l2_PY = tf.reduce_mean((preds_PY - tar_PY) ** 2)\n",
    "\n",
    "losses = cross_ens + l2_PX + l2_PY"
   ]
  },
  {
   "cell_type": "code",
   "execution_count": 10,
   "metadata": {
    "collapsed": true
   },
   "outputs": [],
   "source": [
    "optimizer = tf.train.AdamOptimizer()\n",
    "minimize = optimizer.minimize(losses)"
   ]
  },
  {
   "cell_type": "code",
   "execution_count": 11,
   "metadata": {
    "collapsed": true
   },
   "outputs": [],
   "source": [
    "mistakes = tf.not_equal(tf.argmax(tar, 1), tf.argmax(preds, 1))\n",
    "error = tf.reduce_mean(tf.cast(mistakes, tf.float32))"
   ]
  },
  {
   "cell_type": "code",
   "execution_count": 15,
   "metadata": {
    "collapsed": false
   },
   "outputs": [],
   "source": [
    "res, res_PX, res_PY = sess.run((preds, preds_PX, preds_PY), {data:t_X})"
   ]
  },
  {
   "cell_type": "code",
   "execution_count": 9,
   "metadata": {
    "collapsed": false
   },
   "outputs": [
    {
     "name": "stdout",
     "output_type": "stream",
     "text": [
      "494\n"
     ]
    }
   ],
   "source": [
    "print music_len, #sess.run(data, dfm)"
   ]
  },
  {
   "cell_type": "code",
   "execution_count": 16,
   "metadata": {
    "collapsed": false
   },
   "outputs": [],
   "source": [
    "with open('filenames.json', 'w') as f:\n",
    "    json.dump(t_names, f)\n",
    "res.dump('labels')\n",
    "res_PX.dump('PX')\n",
    "res_PY.dump('PY')"
   ]
  },
  {
   "cell_type": "code",
   "execution_count": 12,
   "metadata": {
    "collapsed": false
   },
   "outputs": [],
   "source": [
    "init_op = tf.global_variables_initializer()\n",
    "sess = tf.Session()\n",
    "sess.run(init_op)"
   ]
  },
  {
   "cell_type": "code",
   "execution_count": 13,
   "metadata": {
    "collapsed": false
   },
   "outputs": [
    {
     "name": "stdout",
     "output_type": "stream",
     "text": [
      "2000 20\n"
     ]
    }
   ],
   "source": [
    "batch_size = len(t_X)\n",
    "no_of_batches = int(len(X) / batch_size)\n",
    "dfm = {data:t_X, target:t_Y, target_PX:t_PX, target_PY:t_PY}\n",
    "print len(X), no_of_batches"
   ]
  },
  {
   "cell_type": "code",
   "execution_count": null,
   "metadata": {
    "collapsed": false,
    "scrolled": false
   },
   "outputs": [],
   "source": [
    "for i in range(30):\n",
    "    ptr = 0\n",
    "    for j in range(no_of_batches):\n",
    "        inp, out, out_PX, out_PY = X[ptr:ptr+batch_size], Y[ptr:ptr+batch_size], PX[ptr:ptr+batch_size], PY[ptr:ptr+batch_size]\n",
    "        ptr += batch_size\n",
    "        ass = {data: inp, target: out, target_PX: out_PX, target_PY: out_PY}\n",
    "        sess.run(minimize, ass)\n",
    "#         incor = sess.run(error, ass)\n",
    "#         loss = sess.run(losses, ass)\n",
    "#         cross = sess.run(cross_ens, ass)\n",
    "#         lx = sess.run(l2_PX, ass)\n",
    "#         ly = sess.run(l2_PY, ass)\n",
    "#         print('Epoch {:2d} loss {:3.6f}'.format(i + 1, loss))\n",
    "#         print('         error {:3.6f}% cross {:3.6f} lx {:3.6f} ly {:3.6f}'.format(incor*100, cross, lx, ly))\n",
    "#         print i, j\n",
    "    incor, loss, cross, lx, ly = sess.run((error, losses, cross_ens, l2_PX, l2_PY), dfm)\n",
    "    print('Epoch {:2d} loss {:3.6f}'.format(i + 1, loss))\n",
    "    print('         error {:3.6f}% cross {:3.6f} lx {:3.6f} ly {:3.6f}'.format(incor*100, cross, lx, ly))"
   ]
  },
  {
   "cell_type": "code",
   "execution_count": 21,
   "metadata": {
    "collapsed": true
   },
   "outputs": [],
   "source": [
    "sess.close()"
   ]
  }
 ],
 "metadata": {
  "anaconda-cloud": {},
  "kernelspec": {
   "display_name": "Python [conda root]",
   "language": "python",
   "name": "conda-root-py"
  },
  "language_info": {
   "codemirror_mode": {
    "name": "ipython",
    "version": 2
   },
   "file_extension": ".py",
   "mimetype": "text/x-python",
   "name": "python",
   "nbconvert_exporter": "python",
   "pygments_lexer": "ipython2",
   "version": "2.7.12"
  }
 },
 "nbformat": 4,
 "nbformat_minor": 1
}
